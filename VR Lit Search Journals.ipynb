{
 "cells": [
  {
   "cell_type": "markdown",
   "id": "0189ceff-5bf9-4b44-af1a-2cebce801845",
   "metadata": {},
   "source": [
    "# VR Literature Search: Journals\n",
    "This notebook is for visualizing XR topics in AGU journals based on a Scopus search. "
   ]
  },
  {
   "attachments": {},
   "cell_type": "markdown",
   "id": "21c0648c-d65f-4c38-919b-4c6caa68e74d",
   "metadata": {},
   "source": [
    "## Step 1: Scopus Query\n",
    "Here's the Scopus query I ran: `( TITLE-ABS-KEY ( \"virtual reality\" ) OR TITLE-ABS-KEY ( \"augmented reality\" ) OR TITLE-ABS-KEY ( \"virtual environment\" ) OR TITLE-ABS-KEY ( \"spatial computing\" ) OR TITLE-ABS-KEY ( \"extended reality\" ) AND DOI ( 10.1029/* ) )`"
   ]
  },
  {
   "cell_type": "markdown",
   "id": "1dcbe449-cbaf-43d5-8f67-9316b725e613",
   "metadata": {},
   "source": [
    "## Read bibliography into pandas dataframe\n",
    "I saved the results to a .bib file. We can use this cell to read it into a pandas dataframe for our plots."
   ]
  },
  {
   "cell_type": "code",
   "execution_count": 12,
   "id": "30fbbdc8-260e-4b60-8f47-f1b5da4d38c1",
   "metadata": {},
   "outputs": [
    {
     "name": "stdout",
     "output_type": "stream",
     "text": [
      "(25, 25)\n"
     ]
    },
    {
     "data": {
      "text/plain": [
       "Index(['note', 'source', 'publication_stage', 'type', 'language', 'coden',\n",
       "       'issn', 'publisher', 'keywords', 'author_keywords', 'abstract',\n",
       "       'affiliations', 'url', 'doi', 'pages', 'number', 'volume', 'journal',\n",
       "       'year', 'title', 'author', 'ENTRYTYPE', 'ID', 'isbn', 'Year'],\n",
       "      dtype='object')"
      ]
     },
     "execution_count": 12,
     "metadata": {},
     "output_type": "execute_result"
    }
   ],
   "source": [
    "import pandas as pd\n",
    "import bibtexparser\n",
    "\n",
    "# Read the .bib file\n",
    "with open('scopus-agu-journals.bib', 'r') as bibtex_file:\n",
    "    bib_database = bibtexparser.load(bibtex_file)\n",
    "# Convert to DataFrame\n",
    "df = pd.DataFrame(bib_database.entries)\n",
    "# Data handling:\n",
    "df['Year'] = pd.to_numeric(df['year']) # Cast to numeric \n",
    "print(df.shape)\n",
    "df.columns"
   ]
  },
  {
   "cell_type": "markdown",
   "id": "f7b02a5f-9874-44f5-b99a-c80bea925986",
   "metadata": {},
   "source": [
    "# Bar Chart Visualization\n",
    "I'd like to have the abstract titles be included in the hypergram. Let's see if we can make that happen."
   ]
  },
  {
   "cell_type": "code",
   "execution_count": 13,
   "id": "6f8ff2b5-8eb6-48af-92c3-03eb97c84ab2",
   "metadata": {},
   "outputs": [
    {
     "data": {
      "application/vnd.plotly.v1+json": {
       "config": {
        "plotlyServerURL": "https://plot.ly"
       },
       "data": [
        {
         "customdata": [
          [
           "Hassan, Emad M. and Mahmoud, Hussam N. and<br>Ellingwood, Bruce R.",
           "10.1029/2020EF001518"
          ]
         ],
         "hovertemplate": "<b>%{hovertext}</b><br><br>journal=Earth's Future<br>Year=%{x}<br>author=%{customdata[0]}<br>doi=%{customdata[1]}<extra></extra>",
         "hovertext": [
          "Resilience of School Systems Following Severe<br>Earthquakes"
         ],
         "legendgroup": "Earth's Future",
         "marker": {
          "color": "#2E91E5",
          "pattern": {
           "shape": ""
          }
         },
         "name": "Earth's Future",
         "orientation": "v",
         "showlegend": true,
         "textposition": "inside",
         "type": "bar",
         "x": {
          "_inputArray": {
           "0": 2020,
           "bdata": "5Ac=",
           "dtype": "i2",
           "shape": "1"
          },
          "bdata": "5Ac=",
          "dtype": "i2"
         },
         "xaxis": "x",
         "y": {
          "_inputArray": {
           "0": 1,
           "bdata": "AQ==",
           "dtype": "i1",
           "shape": "1"
          },
          "bdata": "AQ==",
          "dtype": "i1"
         },
         "yaxis": "y"
        },
        {
         "customdata": [
          [
           "Weigel, Robert S. and Baker, Daniel N. and<br>Roberts, Dana Aaron and King, Todd A.",
           "10.1029/2009EO470001"
          ],
          [
           "Dordevic, Mladen M. and de Paor, Declan G. and<br>Whitmeyer, Steven J. and Bentley, Callan and<br>Whittecar, G. Richard and Constants, Chloe",
           "10.1029/2015eo032621"
          ],
          [
           "Duncombe, Jenessa",
           "10.1029/2023eo230022"
          ],
          [
           "Harris, Kira D. and Krok, Kasey and Hollister,<br>Ryan and Cervenec, Jason M.",
           "10.1029/2021EO160631"
          ]
         ],
         "hovertemplate": "<b>%{hovertext}</b><br><br>journal=Eos<br>Year=%{x}<br>author=%{customdata[0]}<br>doi=%{customdata[1]}<extra></extra>",
         "hovertext": [
          "Using virtual observatories for heliophysics<br>research",
          "Puzzles invite you to explore earth with<br>interactive imagery",
          "The Rise of Gaming-Based Virtual Field Trips",
          "Virtual Tours Through the Ice Using Everyday Tools"
         ],
         "legendgroup": "Eos",
         "marker": {
          "color": "#E15F99",
          "pattern": {
           "shape": ""
          }
         },
         "name": "Eos",
         "orientation": "v",
         "showlegend": true,
         "textposition": "inside",
         "type": "bar",
         "x": {
          "_inputArray": {
           "0": 2009,
           "1": 2015,
           "2": 2023,
           "3": 2021,
           "bdata": "2QffB+cH5Qc=",
           "dtype": "i2",
           "shape": "4"
          },
          "bdata": "2QffB+cH5Qc=",
          "dtype": "i2"
         },
         "xaxis": "x",
         "y": {
          "_inputArray": {
           "0": 1,
           "1": 1,
           "2": 1,
           "3": 1,
           "bdata": "AQEBAQ==",
           "dtype": "i1",
           "shape": "4"
          },
          "bdata": "AQEBAQ==",
          "dtype": "i1"
         },
         "yaxis": "y"
        },
        {
         "customdata": [
          [
           "Gorbatov, Alexei V. and Limaye, Ajay C. and<br>Sambridge, Malcolm S.",
           "10.1029/2003GC000653"
          ],
          [
           "Lu, Qianyi and Rudolph, Maxwell L.",
           "10.1029/2024GC011517"
          ],
          [
           "Lai, Hongyu and Garnero, Edward J.",
           "10.1029/2019GC008679"
          ]
         ],
         "hovertemplate": "<b>%{hovertext}</b><br><br>journal=Geochemistry, Geophysics, Geosystems<br>Year=%{x}<br>author=%{customdata[0]}<br>doi=%{customdata[1]}<extra></extra>",
         "hovertext": [
          "Tomoeye: A Matlab package for visualization of<br>three-dimensional tomographic models",
          "A Synoptic View of Mantle Plume Shapes Enabled by<br>Virtual Reality",
          "Travel Time and Waveform Measurements of Global<br>Multibounce Seismic Waves Using Virtual Station<br>Seismogram Stacks"
         ],
         "legendgroup": "Geochemistry, Geophysics, Geosystems",
         "marker": {
          "color": "#1CA71C",
          "pattern": {
           "shape": ""
          }
         },
         "name": "Geochemistry, Geophysics, Geosystems",
         "orientation": "v",
         "showlegend": true,
         "textposition": "inside",
         "type": "bar",
         "x": {
          "_inputArray": {
           "0": 2004,
           "1": 2024,
           "2": 2020,
           "bdata": "1AfoB+QH",
           "dtype": "i2",
           "shape": "3"
          },
          "bdata": "1AfoB+QH",
          "dtype": "i2"
         },
         "xaxis": "x",
         "y": {
          "_inputArray": {
           "0": 1,
           "1": 1,
           "2": 1,
           "bdata": "AQEB",
           "dtype": "i1",
           "shape": "3"
          },
          "bdata": "AQEB",
          "dtype": "i1"
         },
         "yaxis": "y"
        },
        {
         "customdata": [
          [
           "Trexler, Charles C. and Morelan, Alexander E. and<br>Oskin, Michael E. and Kreylos, Oliver",
           "10.1029/2018GL078012"
          ],
          [
           "D'Odorico, Paolo and Laio, Francesco and Ridolfi,<br>Luca F.G.G.M.",
           "10.1029/2010GL043167"
          ],
          [
           "Crompton, Octavia V. and Katul, Gabriel George and<br>Lapides, Dana Ariel and Thompson, Sally E.",
           "10.1029/2022GL101801"
          ],
          [
           "Yuan, Tianle and Song, Hua and Oreopoulos, Lazaros<br>and Wood, Robert A. and Meyer, Kerry G. and<br>Crawford, Alice M. and Smith, William L. and<br>Eastman, Ryan M.",
           "10.1029/2024GL114356"
          ]
         ],
         "hovertemplate": "<b>%{hovertext}</b><br><br>journal=Geophysical Research Letters<br>Year=%{x}<br>author=%{customdata[0]}<br>doi=%{customdata[1]}<extra></extra>",
         "hovertext": [
          "Surface Slip From the 2014 South Napa Earthquake<br>Measured With Structure From Motion and 3-D<br>Virtual Reality",
          "Does globalization of water reduce societal<br>resilience to drought?",
          "Hydrologic Connectivity and Patch-To-Hillslope<br>Scale Relations in Dryland Ecosystems",
          "Analyses of Virtual Ship-Tracks Systematically<br>Underestimate Aerosol-Cloud Interactions Signals"
         ],
         "legendgroup": "Geophysical Research Letters",
         "marker": {
          "color": "#FB0D0D",
          "pattern": {
           "shape": ""
          }
         },
         "name": "Geophysical Research Letters",
         "orientation": "v",
         "showlegend": true,
         "textposition": "inside",
         "type": "bar",
         "x": {
          "_inputArray": {
           "0": 2018,
           "1": 2010,
           "2": 2023,
           "3": 2025,
           "bdata": "4gfaB+cH6Qc=",
           "dtype": "i2",
           "shape": "4"
          },
          "bdata": "4gfaB+cH6Qc=",
          "dtype": "i2"
         },
         "xaxis": "x",
         "y": {
          "_inputArray": {
           "0": 1,
           "1": 1,
           "2": 1,
           "3": 1,
           "bdata": "AQEBAQ==",
           "dtype": "i1",
           "shape": "4"
          },
          "bdata": "AQEBAQ==",
          "dtype": "i1"
         },
         "yaxis": "y"
        },
        {
         "customdata": [
          [
           "Fatichi, Simone and Ivanov, Valeriy Yu and<br>Caporali, Enrica",
           "10.1029/2011MS000087"
          ]
         ],
         "hovertemplate": "<b>%{hovertext}</b><br><br>journal=Journal of Advances in Modeling Earth Systems<br>Year=%{x}<br>author=%{customdata[0]}<br>doi=%{customdata[1]}<extra></extra>",
         "hovertext": [
          "A mechanistic ecohydrological model to investigate<br>complex interactions in cold and warm water-<br>controlled environments: 2. Spatiotemporal<br>analyses"
         ],
         "legendgroup": "Journal of Advances in Modeling Earth Systems",
         "marker": {
          "color": "#DA16FF",
          "pattern": {
           "shape": ""
          }
         },
         "name": "Journal of Advances in Modeling Earth Systems",
         "orientation": "v",
         "showlegend": true,
         "textposition": "inside",
         "type": "bar",
         "x": {
          "_inputArray": {
           "0": 2012,
           "bdata": "3Ac=",
           "dtype": "i2",
           "shape": "1"
          },
          "bdata": "3Ac=",
          "dtype": "i2"
         },
         "xaxis": "x",
         "y": {
          "_inputArray": {
           "0": 1,
           "bdata": "AQ==",
           "dtype": "i1",
           "shape": "1"
          },
          "bdata": "AQ==",
          "dtype": "i1"
         },
         "yaxis": "y"
        },
        {
         "customdata": [
          [
           "Löhnert, Ulrich and van Meijgaard, Erik and Klein-<br>Baltink, Henk and Groß, Silke M. and Boers,<br>Reinout",
           "10.1029/2006JD007379"
          ],
          [
           "Heus, Thijs and Harm J J Jonker, Harm and Van den<br>Akker, Harry E.A. and Griffith, Eric J. and<br>Koutek, Michal and Post, Frits H.",
           "10.1029/2008JD010917"
          ]
         ],
         "hovertemplate": "<b>%{hovertext}</b><br><br>journal=Journal of Geophysical Research<br>Year=%{x}<br>author=%{customdata[0]}<br>doi=%{customdata[1]}<extra></extra>",
         "hovertext": [
          "Accuracy assessment of an integrated profiling<br>technique for operationally deriving profiles of<br>temperature, humidity, and cloud liquid water",
          "A statistical approach to the life cycle analysis<br>of cumulus clouds selected in a virtual reality<br>environment"
         ],
         "legendgroup": "Journal of Geophysical Research",
         "marker": {
          "color": "#222A2A",
          "pattern": {
           "shape": ""
          }
         },
         "name": "Journal of Geophysical Research",
         "orientation": "v",
         "showlegend": true,
         "textposition": "inside",
         "type": "bar",
         "x": {
          "_inputArray": {
           "0": 2007,
           "1": 2009,
           "bdata": "1wfZBw==",
           "dtype": "i2",
           "shape": "2"
          },
          "bdata": "1wfZBw==",
          "dtype": "i2"
         },
         "xaxis": "x",
         "y": {
          "_inputArray": {
           "0": 1,
           "1": 1,
           "bdata": "AQE=",
           "dtype": "i1",
           "shape": "2"
          },
          "bdata": "AQE=",
          "dtype": "i1"
         },
         "yaxis": "y"
        },
        {
         "customdata": [
          [
           "Thomas, Geb W. and Reagan, Mark K. and Bettis,<br>Elmer Arthur Iii I. and Cabrol, Nathalie A. and<br>Rathe, April",
           "10.1029/1999JE001180"
          ],
          [
           "Stoker, Carol R. and Roush, Ted L. and Arvidsoń,<br>Raymond E. and Bresina, John L. and Bualat, Maria<br>G. and Edwards, Laurence J. and Flueckiger,<br>Lorenzo J. and Washington, Richard M. and Nguyen,<br>Laurent A. and Thomas, Hans J.",
           "10.1029/2000je001490"
          ],
          [
           "Stoker, Carol R. and Zbinden, Eric and Blackmon,<br>Theodore T. and Kanefsky, Bob and Hagen, Joel and<br>Neveu, Charles F. and Rasmussen, Daryl N. and<br>Schwehr, Kurt D. and Sims, Michael H. and Henning,<br>Paul",
           "10.1029/1998JE900019"
          ]
         ],
         "hovertemplate": "<b>%{hovertext}</b><br><br>journal=Journal of Geophysical Research: Planets<br>Year=%{x}<br>author=%{customdata[0]}<br>doi=%{customdata[1]}<extra></extra>",
         "hovertext": [
          "Analysis of science team activities during the<br>1999 Marsokhod Rover Field Experiment:<br>Implications for automated planetary surface<br>exploration",
          "Two dogs, new tricks: A two-rover mission<br>simulation using K9 and FIDO at Black Rock Summit,<br>Nevada",
          "Analyzing Pathfinder data using virtual reality<br>and superresolved imaging"
         ],
         "legendgroup": "Journal of Geophysical Research: Planets",
         "marker": {
          "color": "#B68100",
          "pattern": {
           "shape": ""
          }
         },
         "name": "Journal of Geophysical Research: Planets",
         "orientation": "v",
         "showlegend": true,
         "textposition": "inside",
         "type": "bar",
         "x": {
          "_inputArray": {
           "0": 2001,
           "1": 2002,
           "2": 1999,
           "bdata": "0QfSB88H",
           "dtype": "i2",
           "shape": "3"
          },
          "bdata": "0QfSB88H",
          "dtype": "i2"
         },
         "xaxis": "x",
         "y": {
          "_inputArray": {
           "0": 1,
           "1": 1,
           "2": 1,
           "bdata": "AQEB",
           "dtype": "i1",
           "shape": "3"
          },
          "bdata": "AQEB",
          "dtype": "i1"
         },
         "yaxis": "y"
        },
        {
         "customdata": [
          [
           "Cafiero, Luigi and Bertola, M. and Mazzoglio,<br>Paola and Blöschl, Günter and Laio, Francesco and<br>Viglione, Alberto",
           "10.1029/2024WR038471"
          ],
          [
           "Camporese, Matteo and Paniconi, Claudio and Putti,<br>Marío and Mcdonnell, Jeffrey J.",
           "10.1029/2019WR025726"
          ],
          [
           "Xiao, Dacheng and Shi, Yuning and Brantley, Susan<br>L. and Forsythe, Brandon R. and DiBiase, Roman A.<br>and Davis, Kenneth J. and Li, Li",
           "10.1029/2018WR023736"
          ],
          [
           "Maier, Ruth and González-Nicolás, Ana and Leven,<br>Carsten and Nowak, Wolfgang and Cirpka, Olaf A.",
           "10.1029/2019WR026872"
          ],
          [
           "Hung, Chingpui and Schalge, Bernd and Baroni,<br>Gabriele and Vereecken, Harry and Hendricks<br>Franssen, Harrie Jan",
           "10.1029/2021WR031549"
          ],
          [
           "Erdal, Daniel and Neuweiler, Insa and Huisman,<br>Johan Alexander",
           "10.1029/2011WR011062"
          ],
          [
           "Ameli, Ali A. and Gabrielli, Chris P. and<br>Morgenstern, U. and Mcdonnell, Jeffrey J.",
           "10.1029/2017WR022356"
          ]
         ],
         "hovertemplate": "<b>%{hovertext}</b><br><br>journal=Water Resources Research<br>Year=%{x}<br>author=%{customdata[0]}<br>doi=%{customdata[1]}<extra></extra>",
         "hovertext": [
          "How Changes in Future Precipitation Impact Flood<br>Frequencies: A Quantile-Quantile Mapping Approach",
          "Fill and Spill Hillslope Runoff Representation<br>With a Richards Equation-Based Model",
          "Streamflow Generation From Catchments of<br>Contrasting Lithologies: The Role of Soil<br>Properties, Topography, and Catchment Size",
          "Joint Optimization of Measurement and Modeling<br>Strategies With Application to Radial Flow in<br>Stratified Aquifers",
          "Assimilation of Groundwater Level and Soil<br>Moisture Data in an Integrated Land Surface-<br>Subsurface Model for Southwestern Germany",
          "Estimating effective model parameters for<br>heterogeneous unsaturated flow using error models<br>for bias correction",
          "Groundwater Subsidy From Headwaters to Their<br>Parent Water Watershed: A Combined Field-Modeling<br>Approach"
         ],
         "legendgroup": "Water Resources Research",
         "marker": {
          "color": "#750D86",
          "pattern": {
           "shape": ""
          }
         },
         "name": "Water Resources Research",
         "orientation": "v",
         "showlegend": true,
         "textposition": "inside",
         "type": "bar",
         "visible": true,
         "x": {
          "_inputArray": {
           "0": 2025,
           "1": 2019,
           "2": 2019,
           "3": 2020,
           "4": 2022,
           "5": 2012,
           "6": 2018,
           "bdata": "6QfjB+MH5AfmB9wH4gc=",
           "dtype": "i2",
           "shape": "7"
          },
          "bdata": "6QfjB+MH5AfmB9wH4gc=",
          "dtype": "i2"
         },
         "xaxis": "x",
         "y": {
          "_inputArray": {
           "0": 1,
           "1": 1,
           "2": 1,
           "3": 1,
           "4": 1,
           "5": 1,
           "6": 1,
           "bdata": "AQEBAQEBAQ==",
           "dtype": "i1",
           "shape": "7"
          },
          "bdata": "AQEBAQEBAQ==",
          "dtype": "i1"
         },
         "yaxis": "y"
        }
       ],
       "layout": {
        "autosize": true,
        "barmode": "relative",
        "legend": {
         "title": {
          "text": "journal"
         },
         "tracegroupgap": 0
        },
        "template": {
         "data": {
          "bar": [
           {
            "error_x": {
             "color": "#2a3f5f"
            },
            "error_y": {
             "color": "#2a3f5f"
            },
            "marker": {
             "line": {
              "color": "#E5ECF6",
              "width": 0.5
             },
             "pattern": {
              "fillmode": "overlay",
              "size": 10,
              "solidity": 0.2
             }
            },
            "type": "bar"
           }
          ],
          "barpolar": [
           {
            "marker": {
             "line": {
              "color": "#E5ECF6",
              "width": 0.5
             },
             "pattern": {
              "fillmode": "overlay",
              "size": 10,
              "solidity": 0.2
             }
            },
            "type": "barpolar"
           }
          ],
          "carpet": [
           {
            "aaxis": {
             "endlinecolor": "#2a3f5f",
             "gridcolor": "white",
             "linecolor": "white",
             "minorgridcolor": "white",
             "startlinecolor": "#2a3f5f"
            },
            "baxis": {
             "endlinecolor": "#2a3f5f",
             "gridcolor": "white",
             "linecolor": "white",
             "minorgridcolor": "white",
             "startlinecolor": "#2a3f5f"
            },
            "type": "carpet"
           }
          ],
          "choropleth": [
           {
            "colorbar": {
             "outlinewidth": 0,
             "ticks": ""
            },
            "type": "choropleth"
           }
          ],
          "contour": [
           {
            "colorbar": {
             "outlinewidth": 0,
             "ticks": ""
            },
            "colorscale": [
             [
              0,
              "#0d0887"
             ],
             [
              0.1111111111111111,
              "#46039f"
             ],
             [
              0.2222222222222222,
              "#7201a8"
             ],
             [
              0.3333333333333333,
              "#9c179e"
             ],
             [
              0.4444444444444444,
              "#bd3786"
             ],
             [
              0.5555555555555556,
              "#d8576b"
             ],
             [
              0.6666666666666666,
              "#ed7953"
             ],
             [
              0.7777777777777778,
              "#fb9f3a"
             ],
             [
              0.8888888888888888,
              "#fdca26"
             ],
             [
              1,
              "#f0f921"
             ]
            ],
            "type": "contour"
           }
          ],
          "contourcarpet": [
           {
            "colorbar": {
             "outlinewidth": 0,
             "ticks": ""
            },
            "type": "contourcarpet"
           }
          ],
          "heatmap": [
           {
            "colorbar": {
             "outlinewidth": 0,
             "ticks": ""
            },
            "colorscale": [
             [
              0,
              "#0d0887"
             ],
             [
              0.1111111111111111,
              "#46039f"
             ],
             [
              0.2222222222222222,
              "#7201a8"
             ],
             [
              0.3333333333333333,
              "#9c179e"
             ],
             [
              0.4444444444444444,
              "#bd3786"
             ],
             [
              0.5555555555555556,
              "#d8576b"
             ],
             [
              0.6666666666666666,
              "#ed7953"
             ],
             [
              0.7777777777777778,
              "#fb9f3a"
             ],
             [
              0.8888888888888888,
              "#fdca26"
             ],
             [
              1,
              "#f0f921"
             ]
            ],
            "type": "heatmap"
           }
          ],
          "histogram": [
           {
            "marker": {
             "pattern": {
              "fillmode": "overlay",
              "size": 10,
              "solidity": 0.2
             }
            },
            "type": "histogram"
           }
          ],
          "histogram2d": [
           {
            "colorbar": {
             "outlinewidth": 0,
             "ticks": ""
            },
            "colorscale": [
             [
              0,
              "#0d0887"
             ],
             [
              0.1111111111111111,
              "#46039f"
             ],
             [
              0.2222222222222222,
              "#7201a8"
             ],
             [
              0.3333333333333333,
              "#9c179e"
             ],
             [
              0.4444444444444444,
              "#bd3786"
             ],
             [
              0.5555555555555556,
              "#d8576b"
             ],
             [
              0.6666666666666666,
              "#ed7953"
             ],
             [
              0.7777777777777778,
              "#fb9f3a"
             ],
             [
              0.8888888888888888,
              "#fdca26"
             ],
             [
              1,
              "#f0f921"
             ]
            ],
            "type": "histogram2d"
           }
          ],
          "histogram2dcontour": [
           {
            "colorbar": {
             "outlinewidth": 0,
             "ticks": ""
            },
            "colorscale": [
             [
              0,
              "#0d0887"
             ],
             [
              0.1111111111111111,
              "#46039f"
             ],
             [
              0.2222222222222222,
              "#7201a8"
             ],
             [
              0.3333333333333333,
              "#9c179e"
             ],
             [
              0.4444444444444444,
              "#bd3786"
             ],
             [
              0.5555555555555556,
              "#d8576b"
             ],
             [
              0.6666666666666666,
              "#ed7953"
             ],
             [
              0.7777777777777778,
              "#fb9f3a"
             ],
             [
              0.8888888888888888,
              "#fdca26"
             ],
             [
              1,
              "#f0f921"
             ]
            ],
            "type": "histogram2dcontour"
           }
          ],
          "mesh3d": [
           {
            "colorbar": {
             "outlinewidth": 0,
             "ticks": ""
            },
            "type": "mesh3d"
           }
          ],
          "parcoords": [
           {
            "line": {
             "colorbar": {
              "outlinewidth": 0,
              "ticks": ""
             }
            },
            "type": "parcoords"
           }
          ],
          "pie": [
           {
            "automargin": true,
            "type": "pie"
           }
          ],
          "scatter": [
           {
            "fillpattern": {
             "fillmode": "overlay",
             "size": 10,
             "solidity": 0.2
            },
            "type": "scatter"
           }
          ],
          "scatter3d": [
           {
            "line": {
             "colorbar": {
              "outlinewidth": 0,
              "ticks": ""
             }
            },
            "marker": {
             "colorbar": {
              "outlinewidth": 0,
              "ticks": ""
             }
            },
            "type": "scatter3d"
           }
          ],
          "scattercarpet": [
           {
            "marker": {
             "colorbar": {
              "outlinewidth": 0,
              "ticks": ""
             }
            },
            "type": "scattercarpet"
           }
          ],
          "scattergeo": [
           {
            "marker": {
             "colorbar": {
              "outlinewidth": 0,
              "ticks": ""
             }
            },
            "type": "scattergeo"
           }
          ],
          "scattergl": [
           {
            "marker": {
             "colorbar": {
              "outlinewidth": 0,
              "ticks": ""
             }
            },
            "type": "scattergl"
           }
          ],
          "scattermap": [
           {
            "marker": {
             "colorbar": {
              "outlinewidth": 0,
              "ticks": ""
             }
            },
            "type": "scattermap"
           }
          ],
          "scattermapbox": [
           {
            "marker": {
             "colorbar": {
              "outlinewidth": 0,
              "ticks": ""
             }
            },
            "type": "scattermapbox"
           }
          ],
          "scatterpolar": [
           {
            "marker": {
             "colorbar": {
              "outlinewidth": 0,
              "ticks": ""
             }
            },
            "type": "scatterpolar"
           }
          ],
          "scatterpolargl": [
           {
            "marker": {
             "colorbar": {
              "outlinewidth": 0,
              "ticks": ""
             }
            },
            "type": "scatterpolargl"
           }
          ],
          "scatterternary": [
           {
            "marker": {
             "colorbar": {
              "outlinewidth": 0,
              "ticks": ""
             }
            },
            "type": "scatterternary"
           }
          ],
          "surface": [
           {
            "colorbar": {
             "outlinewidth": 0,
             "ticks": ""
            },
            "colorscale": [
             [
              0,
              "#0d0887"
             ],
             [
              0.1111111111111111,
              "#46039f"
             ],
             [
              0.2222222222222222,
              "#7201a8"
             ],
             [
              0.3333333333333333,
              "#9c179e"
             ],
             [
              0.4444444444444444,
              "#bd3786"
             ],
             [
              0.5555555555555556,
              "#d8576b"
             ],
             [
              0.6666666666666666,
              "#ed7953"
             ],
             [
              0.7777777777777778,
              "#fb9f3a"
             ],
             [
              0.8888888888888888,
              "#fdca26"
             ],
             [
              1,
              "#f0f921"
             ]
            ],
            "type": "surface"
           }
          ],
          "table": [
           {
            "cells": {
             "fill": {
              "color": "#EBF0F8"
             },
             "line": {
              "color": "white"
             }
            },
            "header": {
             "fill": {
              "color": "#C8D4E3"
             },
             "line": {
              "color": "white"
             }
            },
            "type": "table"
           }
          ]
         },
         "layout": {
          "annotationdefaults": {
           "arrowcolor": "#2a3f5f",
           "arrowhead": 0,
           "arrowwidth": 1
          },
          "autotypenumbers": "strict",
          "coloraxis": {
           "colorbar": {
            "outlinewidth": 0,
            "ticks": ""
           }
          },
          "colorscale": {
           "diverging": [
            [
             0,
             "#8e0152"
            ],
            [
             0.1,
             "#c51b7d"
            ],
            [
             0.2,
             "#de77ae"
            ],
            [
             0.3,
             "#f1b6da"
            ],
            [
             0.4,
             "#fde0ef"
            ],
            [
             0.5,
             "#f7f7f7"
            ],
            [
             0.6,
             "#e6f5d0"
            ],
            [
             0.7,
             "#b8e186"
            ],
            [
             0.8,
             "#7fbc41"
            ],
            [
             0.9,
             "#4d9221"
            ],
            [
             1,
             "#276419"
            ]
           ],
           "sequential": [
            [
             0,
             "#0d0887"
            ],
            [
             0.1111111111111111,
             "#46039f"
            ],
            [
             0.2222222222222222,
             "#7201a8"
            ],
            [
             0.3333333333333333,
             "#9c179e"
            ],
            [
             0.4444444444444444,
             "#bd3786"
            ],
            [
             0.5555555555555556,
             "#d8576b"
            ],
            [
             0.6666666666666666,
             "#ed7953"
            ],
            [
             0.7777777777777778,
             "#fb9f3a"
            ],
            [
             0.8888888888888888,
             "#fdca26"
            ],
            [
             1,
             "#f0f921"
            ]
           ],
           "sequentialminus": [
            [
             0,
             "#0d0887"
            ],
            [
             0.1111111111111111,
             "#46039f"
            ],
            [
             0.2222222222222222,
             "#7201a8"
            ],
            [
             0.3333333333333333,
             "#9c179e"
            ],
            [
             0.4444444444444444,
             "#bd3786"
            ],
            [
             0.5555555555555556,
             "#d8576b"
            ],
            [
             0.6666666666666666,
             "#ed7953"
            ],
            [
             0.7777777777777778,
             "#fb9f3a"
            ],
            [
             0.8888888888888888,
             "#fdca26"
            ],
            [
             1,
             "#f0f921"
            ]
           ]
          },
          "colorway": [
           "#636efa",
           "#EF553B",
           "#00cc96",
           "#ab63fa",
           "#FFA15A",
           "#19d3f3",
           "#FF6692",
           "#B6E880",
           "#FF97FF",
           "#FECB52"
          ],
          "font": {
           "color": "#2a3f5f"
          },
          "geo": {
           "bgcolor": "white",
           "lakecolor": "white",
           "landcolor": "#E5ECF6",
           "showlakes": true,
           "showland": true,
           "subunitcolor": "white"
          },
          "hoverlabel": {
           "align": "left"
          },
          "hovermode": "closest",
          "mapbox": {
           "style": "light"
          },
          "paper_bgcolor": "white",
          "plot_bgcolor": "#E5ECF6",
          "polar": {
           "angularaxis": {
            "gridcolor": "white",
            "linecolor": "white",
            "ticks": ""
           },
           "bgcolor": "#E5ECF6",
           "radialaxis": {
            "gridcolor": "white",
            "linecolor": "white",
            "ticks": ""
           }
          },
          "scene": {
           "xaxis": {
            "backgroundcolor": "#E5ECF6",
            "gridcolor": "white",
            "gridwidth": 2,
            "linecolor": "white",
            "showbackground": true,
            "ticks": "",
            "zerolinecolor": "white"
           },
           "yaxis": {
            "backgroundcolor": "#E5ECF6",
            "gridcolor": "white",
            "gridwidth": 2,
            "linecolor": "white",
            "showbackground": true,
            "ticks": "",
            "zerolinecolor": "white"
           },
           "zaxis": {
            "backgroundcolor": "#E5ECF6",
            "gridcolor": "white",
            "gridwidth": 2,
            "linecolor": "white",
            "showbackground": true,
            "ticks": "",
            "zerolinecolor": "white"
           }
          },
          "shapedefaults": {
           "line": {
            "color": "#2a3f5f"
           }
          },
          "ternary": {
           "aaxis": {
            "gridcolor": "white",
            "linecolor": "white",
            "ticks": ""
           },
           "baxis": {
            "gridcolor": "white",
            "linecolor": "white",
            "ticks": ""
           },
           "bgcolor": "#E5ECF6",
           "caxis": {
            "gridcolor": "white",
            "linecolor": "white",
            "ticks": ""
           }
          },
          "title": {
           "x": 0.05
          },
          "xaxis": {
           "automargin": true,
           "gridcolor": "white",
           "linecolor": "white",
           "ticks": "",
           "title": {
            "standoff": 15
           },
           "zerolinecolor": "white",
           "zerolinewidth": 2
          },
          "yaxis": {
           "automargin": true,
           "gridcolor": "white",
           "linecolor": "white",
           "ticks": "",
           "title": {
            "standoff": 15
           },
           "zerolinecolor": "white",
           "zerolinewidth": 2
          }
         }
        },
        "title": {
         "text": "XR Articles in AGU Journals"
        },
        "xaxis": {
         "anchor": "y",
         "autorange": true,
         "domain": [
          0,
          1
         ],
         "range": [
          1998.5,
          2025.5
         ],
         "title": {
          "text": "Year"
         },
         "type": "linear"
        },
        "yaxis": {
         "anchor": "x",
         "autorange": true,
         "domain": [
          0,
          1
         ],
         "range": [
          0,
          3.1578947368421053
         ],
         "title": {
          "text": "Abstract Count"
         },
         "type": "linear"
        }
       }
      },
      "image/png": "[encoded data removed]"
     },
     "metadata": {},
     "output_type": "display_data"
    }
   ],
   "source": [
    "import plotly.graph_objects as go\n",
    "import plotly.express as px\n",
    "import pandas as pd\n",
    "\n",
    "\n",
    "titlestring = \"XR Articles in AGU Journals\"\n",
    "\n",
    "# Read the .bib file\n",
    "with open('scopus-agu-journals.bib', 'r') as bibtex_file:\n",
    "    bib_database = bibtexparser.load(bibtex_file)\n",
    "\n",
    "# Convert to DataFrame\n",
    "df = pd.DataFrame(bib_database.entries)\n",
    "\n",
    "# Data handling:\n",
    "df['Year'] = pd.to_numeric(df['year']) # Cast to numeric \n",
    "df['Abstract Count'] = 1 # for bar chart purposes\n",
    "# Remove curly braces using str.replace()\n",
    "df['title'] = df['title'].str.replace(r'[{}]', '', regex=True)\n",
    "df['title'] = df['title'].str.replace(r'[/]', '', regex=True)\n",
    "df['title'] = df['title'].str.replace(r'[\\\"]', '', regex=True)\n",
    "df['author'] = df['author'].str.replace(r'[{}]', '', regex=True)\n",
    "df['author'] = df['author'].str.replace(r'[~]', '', regex=True)\n",
    "\n",
    "# Wrap the text and replace newlines with <br>\n",
    "df['wrapped_author'] = df['author'].fillna('').str.wrap(50).apply(lambda x: x.replace('\\n', '<br>'))\n",
    "df[\"author\"] = df[\"wrapped_author\"]\n",
    "df['wrapped_title'] = df['title'].fillna('').str.wrap(50).apply(lambda x: x.replace('\\n', '<br>'))\n",
    "df[\"title\"] = df[\"wrapped_title\"]\n",
    "\n",
    "# Color code by journal:\n",
    "df = df.sort_values(by='journal')\n",
    "df.shape\n",
    "\n",
    "fig = px.bar(df, x='Year', y = 'Abstract Count', color='journal',\n",
    "            color_discrete_sequence=px.colors.qualitative.Dark24,\n",
    "            title = titlestring,\n",
    "            hover_name = \"title\",\n",
    "            hover_data={\"author\": True, \"doi\": True, \"Abstract Count\": False})#\"adsurl\"})\n",
    "# fig.data[-1].text = sums\n",
    "\n",
    "fig.update_traces(textposition='inside')\n",
    "fig.show()\n",
    "fig.write_html(\"plots/\"+titlestring +\" Histogram_Labeled.html\")"
   ]
  }
 ],
 "metadata": {
  "kernelspec": {
   "display_name": "Python 3 (ipykernel)",
   "language": "python",
   "name": "python3"
  },
  "language_info": {
   "codemirror_mode": {
    "name": "ipython",
    "version": 3
   },
   "file_extension": ".py",
   "mimetype": "text/x-python",
   "name": "python",
   "nbconvert_exporter": "python",
   "pygments_lexer": "ipython3",
   "version": "3.9.1"
  }
 },
 "nbformat": 4,
 "nbformat_minor": 5
}
